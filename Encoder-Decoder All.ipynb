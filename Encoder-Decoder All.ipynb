{
 "cells": [
  {
   "cell_type": "code",
   "execution_count": 1,
   "metadata": {},
   "outputs": [],
   "source": [
    "import spacy\n",
    "import nltk.data\n",
    "import glob\n",
    "\n",
    "import torch\n",
    "import torch.nn as nn\n",
    "import torch.optim as optim\n",
    "import torch.nn.functional as F\n",
    "\n",
    "from torchtext.data import Field, BucketIterator\n",
    "from torchtext import data\n",
    "from collections import Counter\n",
    "import spacy\n",
    "import numpy as np\n",
    "import re\n",
    "import random\n",
    "import math\n",
    "import time\n",
    "import pandas as pd\n",
    "from sklearn.model_selection import train_test_split"
   ]
  },
  {
   "cell_type": "code",
   "execution_count": 2,
   "metadata": {},
   "outputs": [],
   "source": [
    "MIN_LEN = 5\n",
    "MAX_LEN = 30\n",
    "\n",
    "TRAIN_SIZE = 0.9\n",
    "DEV_SIZE = 0.1\n",
    "RANDOM_STATE = 101"
   ]
  },
  {
   "cell_type": "code",
   "execution_count": 3,
   "metadata": {},
   "outputs": [],
   "source": [
    "authors=['Hemingway','Nietzsche','Wilde']\n",
    "PATH = \"/home/julia/PycharmProjects/seq2seq/books/\"\n",
    "books=[]\n",
    "nlp = spacy.load('en')"
   ]
  },
  {
   "cell_type": "code",
   "execution_count": 7,
   "metadata": {},
   "outputs": [],
   "source": [
    "def file_open(path):\n",
    "    #Remove special characters\n",
    "    with open(path, encoding='utf-8') as f:\n",
    "        text = f.read()\n",
    "        text = re.sub(r'([^a-záéíóúÁÉÍÓÚüA-Z0-9,.:?!¡¿ ])', '', text)\n",
    "        return text"
   ]
  },
  {
   "cell_type": "code",
   "execution_count": 8,
   "metadata": {},
   "outputs": [],
   "source": [
    "def convert_sentences(text):\n",
    "    file_doc = nlp(text)\n",
    "    sentences = list(file_doc.sents)\n",
    "    filtered_sentences=[]\n",
    "    for sent in sentences:\n",
    "        if len(sent)>=MIN_LEN:\n",
    "            filtered_sentences.append(sent)\n",
    "    print(\"Total oraciones: \",len(sentences))\n",
    "    print(\"Oraciones filtradas por longitud: \",len(filtered_sentences))\n",
    "    return filtered_sentences"
   ]
  },
  {
   "cell_type": "code",
   "execution_count": 9,
   "metadata": {},
   "outputs": [
    {
     "ename": "NameError",
     "evalue": "name 'sents' is not defined",
     "output_type": "error",
     "traceback": [
      "\u001b[0;31m---------------------------------------------------------------------------\u001b[0m",
      "\u001b[0;31mNameError\u001b[0m                                 Traceback (most recent call last)",
      "\u001b[0;32m<ipython-input-9-d81f36919a04>\u001b[0m in \u001b[0;36m<module>\u001b[0;34m\u001b[0m\n\u001b[0;32m----> 1\u001b[0;31m \u001b[0mlen\u001b[0m\u001b[0;34m(\u001b[0m\u001b[0msents\u001b[0m\u001b[0;34m)\u001b[0m\u001b[0;34m\u001b[0m\u001b[0;34m\u001b[0m\u001b[0m\n\u001b[0m",
      "\u001b[0;31mNameError\u001b[0m: name 'sents' is not defined"
     ]
    }
   ],
   "source": [
    "len(sents)"
   ]
  },
  {
   "cell_type": "code",
   "execution_count": null,
   "metadata": {},
   "outputs": [],
   "source": [
    "sents_by_author=[]\n",
    "for author in authors:\n",
    "    name_file = PATH + author\n",
    "    print(name_file)\n",
    "    books_author = []\n",
    "    sents = []\n",
    "    for file in glob.glob(name_file + \"/*.txt\"):\n",
    "        books_author.append(file)\n",
    "        txt = file_open(file)\n",
    "        #Las oraciones se filtran por longitud, mínima 10\n",
    "        sents = sents+convert_sentences(txt)\n",
    "    sents_by_author.append(sents)\n",
    "    #print(books_author)\n",
    "    books.append(books_author)"
   ]
  },
  {
   "cell_type": "code",
   "execution_count": null,
   "metadata": {},
   "outputs": [],
   "source": [
    "data_frames={}\n",
    "d={}"
   ]
  },
  {
   "cell_type": "code",
   "execution_count": null,
   "metadata": {},
   "outputs": [],
   "source": [
    "df=[\"df_{n_author}\".format(n_author=a) for a in authors]\n",
    "df"
   ]
  },
  {
   "cell_type": "code",
   "execution_count": null,
   "metadata": {},
   "outputs": [],
   "source": [
    "for i in range(len(authors)):\n",
    "    d[\"dataset_dict_{n_author}\".format(n_author=authors[i])] = {'input': [sent for sent in sents_by_author[i]], 'output': [sent for sent in sents_by_author[i]]}"
   ]
  },
  {
   "cell_type": "code",
   "execution_count": null,
   "metadata": {},
   "outputs": [],
   "source": [
    "df_Hemingway= pd.DataFrame(d[\"dataset_dict_Hemingway\"],columns=[\"input\", 'output'])\n",
    "df_Nietzsche= pd.DataFrame(d[\"dataset_dict_Nietzsche\"],columns=[\"input\", 'output'])\n",
    "df_Wilde = pd.DataFrame(d[\"dataset_dict_Wilde\"],columns=[\"input\", 'output'])"
   ]
  },
  {
   "cell_type": "code",
   "execution_count": null,
   "metadata": {},
   "outputs": [],
   "source": [
    "data_frames = {df[0]:df_Hemingway,df[1]:df_Nietzsche,df[2]:df_Wilde}"
   ]
  },
  {
   "cell_type": "code",
   "execution_count": null,
   "metadata": {},
   "outputs": [],
   "source": [
    "for i in range(len(authors)):\n",
    "    train_df, test_df = train_test_split(data_frames[df[i]],\n",
    "                                         test_size=DEV_SIZE,\n",
    "                                         train_size=TRAIN_SIZE,\n",
    "                                         random_state=69,\n",
    "                                         shuffle=True)\n",
    "    train_df.to_csv(PATH + \"/\" + authors[i] + \"/datasets/trainset_\"+authors[i]+\".csv\", index=False)\n",
    "    test_df.to_csv(PATH + \"/\" + authors[i] + \"/datasets/testset_\"+authors[i]+\".csv\", index=False)"
   ]
  },
  {
   "cell_type": "markdown",
   "metadata": {},
   "source": [
    "# Preparación de datos"
   ]
  },
  {
   "cell_type": "code",
   "execution_count": 4,
   "metadata": {},
   "outputs": [],
   "source": [
    "def tokenize_output(text):\n",
    "    return [tok.text for tok in nlp.tokenizer(text)]"
   ]
  },
  {
   "cell_type": "code",
   "execution_count": 5,
   "metadata": {},
   "outputs": [],
   "source": [
    "def tokenize_input(text):\n",
    "    return [tok.text for tok in nlp.tokenizer(text)][::-1]"
   ]
  },
  {
   "cell_type": "code",
   "execution_count": 6,
   "metadata": {},
   "outputs": [
    {
     "name": "stdout",
     "output_type": "stream",
     "text": [
      "cuda\n"
     ]
    }
   ],
   "source": [
    "device = torch.device('cuda' if torch.cuda.is_available() else 'cpu')\n",
    "print(device)\n",
    "\n",
    "\n",
    "#Fields\n",
    "SRC = Field(tokenize = tokenize_input,\n",
    "            init_token = '<sos>',\n",
    "            eos_token = '<eos>',\n",
    "            dtype = torch.long,\n",
    "            lower = True,\n",
    "            include_lengths = False,\n",
    "            batch_first = False)\n",
    "\n",
    "TRG_H = TRG_N = TRG_W = Field(tokenize = tokenize_output,\n",
    "            init_token = '<sos>',\n",
    "            eos_token = '<eos>',\n",
    "            dtype = torch.long,\n",
    "            lower = True,\n",
    "            include_lengths = False,\n",
    "            batch_first = False)"
   ]
  },
  {
   "cell_type": "code",
   "execution_count": 7,
   "metadata": {},
   "outputs": [],
   "source": [
    "fields_h = [('src', SRC), ('trg_h', TRG_H)]\n",
    "fields_n = [('src', SRC), ('trg_n', TRG_N)]\n",
    "fields_w = [('src', SRC), ('trg_w', TRG_W)]"
   ]
  },
  {
   "cell_type": "code",
   "execution_count": 8,
   "metadata": {},
   "outputs": [],
   "source": [
    "train_set_H, test_set_H = data.TabularDataset.splits(path=PATH+'/'+authors[0]+'/datasets/',\n",
    "                                                train = 'trainset_'+authors[0]+'.csv',\n",
    "                                                validation = 'testset_'+authors[0]+'.csv',\n",
    "                                                format='csv',\n",
    "                                                fields=fields_h,\n",
    "                                                skip_header=True)"
   ]
  },
  {
   "cell_type": "code",
   "execution_count": 9,
   "metadata": {},
   "outputs": [],
   "source": [
    "train_set_N, test_set_N = data.TabularDataset.splits(path=PATH+'/'+authors[1]+'/datasets/',\n",
    "                                                train = 'trainset_'+authors[1]+'.csv',\n",
    "                                                validation = 'testset_'+authors[1]+'.csv',\n",
    "                                                format='csv',\n",
    "                                                fields=fields_n,\n",
    "                                                skip_header=True)"
   ]
  },
  {
   "cell_type": "code",
   "execution_count": 10,
   "metadata": {},
   "outputs": [],
   "source": [
    "train_set_W, test_set_W = data.TabularDataset.splits(path=PATH+'/'+authors[2]+'/datasets/',\n",
    "                                                train = 'trainset_'+authors[2]+'.csv',\n",
    "                                                validation = 'testset_'+authors[2]+'.csv',\n",
    "                                                format='csv',\n",
    "                                                fields=fields_w,\n",
    "                                                skip_header=True)"
   ]
  },
  {
   "cell_type": "code",
   "execution_count": 11,
   "metadata": {},
   "outputs": [
    {
     "name": "stdout",
     "output_type": "stream",
     "text": [
      "\t Hemingway: len(train_set): 28725\n",
      "\t Hemingway: len(dev_set): 3192\n",
      "\t Nietzsche: len(train_set): 14451\n",
      "\t Nietzsche: len(dev_set): 1606\n",
      "\t Wilde: len(train_set): 15687\n",
      "\t Wilde: len(dev_set): 1743\n"
     ]
    }
   ],
   "source": [
    "print(f'\\t Hemingway: len(train_set): {len(train_set_H)}')\n",
    "print(f'\\t Hemingway: len(dev_set): {len(test_set_H)}')\n",
    "print(f'\\t Nietzsche: len(train_set): {len(train_set_N)}')\n",
    "print(f'\\t Nietzsche: len(dev_set): {len(test_set_N)}')\n",
    "print(f'\\t Wilde: len(train_set): {len(train_set_W)}')\n",
    "print(f'\\t Wilde: len(dev_set): {len(test_set_W)}')"
   ]
  },
  {
   "cell_type": "code",
   "execution_count": 12,
   "metadata": {},
   "outputs": [],
   "source": [
    "#Solo un encoder\n",
    "SRC.build_vocab(train_set_H, train_set_N, train_set_W,\n",
    "                         #dev_set,\n",
    "                         max_size = None,\n",
    "                         min_freq = 2,\n",
    "                         vectors = \"glove.6B.300d\")"
   ]
  },
  {
   "cell_type": "code",
   "execution_count": 13,
   "metadata": {},
   "outputs": [],
   "source": [
    "TRG_H.build_vocab(train_set_H,\n",
    "                         #dev_set,\n",
    "                         max_size = None,\n",
    "                         min_freq = 2,\n",
    "                         vectors = \"glove.6B.300d\")\n",
    "TRG_N.build_vocab(train_set_N,\n",
    "                         #dev_set,\n",
    "                         max_size = None,\n",
    "                         min_freq = 2,\n",
    "                         vectors = \"glove.6B.300d\")\n",
    "TRG_W.build_vocab(train_set_W,\n",
    "                         #dev_set,\n",
    "                         max_size = None,\n",
    "                         min_freq = 2,\n",
    "                         vectors = \"glove.6B.300d\")\n"
   ]
  },
  {
   "cell_type": "code",
   "execution_count": 14,
   "metadata": {},
   "outputs": [
    {
     "name": "stdout",
     "output_type": "stream",
     "text": [
      "Vocabulary Encoder Matrix:  torch.Size([13726, 300])\n",
      "Vocabulary Decoder Hemingway Matrix:  torch.Size([5868, 300])\n",
      "Vocabulary Decoder Netzsche Matrix:  torch.Size([5868, 300])\n",
      "Vocabulary Decoder Wilde Matrix:  torch.Size([5868, 300])\n"
     ]
    }
   ],
   "source": [
    "print(\"Vocabulary Encoder Matrix: \",SRC.vocab.vectors.shape)\n",
    "print(\"Vocabulary Decoder Hemingway Matrix: \",TRG_H.vocab.vectors.shape)\n",
    "print(\"Vocabulary Decoder Netzsche Matrix: \",TRG_N.vocab.vectors.shape)\n",
    "print(\"Vocabulary Decoder Wilde Matrix: \",TRG_W.vocab.vectors.shape)"
   ]
  },
  {
   "cell_type": "markdown",
   "metadata": {},
   "source": [
    "\n",
    "# Creación del modelo "
   ]
  },
  {
   "cell_type": "code",
   "execution_count": 5,
   "metadata": {},
   "outputs": [],
   "source": [
    "class Encoder(nn.Module):\n",
    "    def __init__(self, input_dim, emb_dim, emb_mat, hid_dim, n_layers, dropout):\n",
    "        super().__init__()\n",
    "\n",
    "        self.input_dim = input_dim\n",
    "        self.emb_dim = emb_dim\n",
    "        self.emb_mat = emb_mat\n",
    "        self.hid_dim = hid_dim\n",
    "        self.n_layers = n_layers\n",
    "        self.dropout = dropout\n",
    "\n",
    "        self.embedding = nn.Embedding(self.input_dim, self.emb_dim)\n",
    "        self.embedding.weight.data.copy_(emb_mat) #matrix precargada\n",
    "        \n",
    "        self.rnn = nn.LSTM(emb_dim, hid_dim, n_layers, batch_first = False, dropout=dropout)\n",
    "\n",
    "        self.dropout = nn.Dropout(dropout)\n",
    "\n",
    "    def forward(self, src):\n",
    "        # src = [src len, batch size]\n",
    "        embedded = self.dropout(self.embedding(src))\n",
    "\n",
    "        # embedded = [src len, batch size, emb dim]\n",
    "\n",
    "        outputs, (hidden, cell) = self.rnn(embedded)\n",
    "\n",
    "        # outputs = [src len, batch size, hid dim * n directions]\n",
    "        # hidden = [n layers * n directions, batch size, hid dim]\n",
    "        # cell = [n layers * n directions, batch size, hid dim]\n",
    "\n",
    "        # outputs are always from the top hidden layer\n",
    "\n",
    "        return outputs, (hidden, cell)"
   ]
  },
  {
   "cell_type": "code",
   "execution_count": 16,
   "metadata": {},
   "outputs": [],
   "source": [
    "class Decoder(nn.Module):\n",
    "    def __init__(self, output_dim, emb_dim,emb_mat, hid_dim, n_layers, dropout):\n",
    "        super().__init__()\n",
    "\n",
    "        self.output_dim = output_dim\n",
    "        self.hid_dim = hid_dim\n",
    "        self.n_layers = n_layers\n",
    "        self.emb_dim = emb_dim\n",
    "        self.emb_mat = emb_mat\n",
    "        self.embedding = nn.Embedding(output_dim, emb_dim)\n",
    "        self.embedding.weight.data.copy_(emb_mat)  # load pretrained embedding matrix\n",
    "        self.rnn = nn.LSTM(emb_dim, hid_dim, n_layers,batch_first = False, dropout=dropout)\n",
    "\n",
    "        self.dropout = nn.Dropout(dropout)\n",
    "        \n",
    "        self.fc_out = nn.Linear(hid_dim, output_dim)\n",
    "\n",
    "\n",
    "\n",
    "    def forward(self, input, state):\n",
    "        (hidden, cell) = state\n",
    "        # input = [batch size]\n",
    "        # hidden = [n layers * n directions, batch size, hid dim]\n",
    "        # cell = [n layers * n directions, batch size, hid dim]\n",
    "\n",
    "        # n directions in the decoder will both always be 1, therefore:\n",
    "        # hidden = [n layers, batch size, hid dim]\n",
    "        # context = [n layers, batch size, hid dim]\n",
    "\n",
    "        #input = input.unsqueeze(0)\n",
    "\n",
    "        # input = [1, batch size]\n",
    "\n",
    "        embedded = self.dropout(self.embedding(input))\n",
    "\n",
    "        # embedded = [1, batch size, emb dim]\n",
    "\n",
    "        output, (hidden, cell) = self.rnn(embedded, (hidden, cell))\n",
    "\n",
    "        # output = [seq len, batch size, hid dim * n directions]\n",
    "        # hidden = [n layers * n directions, batch size, hid dim]\n",
    "        # cell = [n layers * n directions, batch size, hid dim]\n",
    "\n",
    "        # seq len and n directions will always be 1 in the decoder, therefore:\n",
    "        # output = [1, batch size, hid dim]\n",
    "        # hidden = [n layers, batch size, hid dim]\n",
    "        # cell = [n layers, batch size, hid dim]\n",
    "        output = self.dropout(output)\n",
    "        prediction = self.fc_out(output.squeeze(0))\n",
    "\n",
    "        # prediction = [batch size, output dim]\n",
    "\n",
    "        return prediction, (hidden, cell)\n"
   ]
  },
  {
   "cell_type": "code",
   "execution_count": 17,
   "metadata": {},
   "outputs": [],
   "source": [
    "class Seq2Seq(nn.Module):\n",
    "    def __init__(self, encoder, decoders):\n",
    "        super().__init__()\n",
    "\n",
    "        self.encoder = encoder\n",
    "        self.decoder_H = decoders[0]\n",
    "        self.decoder_N = decoders[1]\n",
    "        self.decoder_W = decoders[2]\n",
    "\n",
    "        \n",
    "    def forward(self, src, trg, index_author,teacher_forcing_ratio):\n",
    "        # src = [src len, batch size]\n",
    "        # trg = [trg len, batch size]\n",
    "        # teacher_forcing_ratio is probability to use teacher forcing\n",
    "        # e.g. if teacher_forcing_ratio is 0.75 we use ground-truth inputs 75% of the time\n",
    "\n",
    "        if index_author == 0:            \n",
    "            decoder = self.decoder_H\n",
    "        elif index_author == 1:\n",
    "            decoder = self.decoder_N\n",
    "        elif index_author == 2:\n",
    "            decoder = self.decoder_W\n",
    "        \n",
    "        \n",
    "        \n",
    "        #batch_size = trg.shape[1]\n",
    "        trg_len = trg.shape[0]\n",
    "        trg_vocab_size = decoder.output_dim\n",
    "\n",
    "        # tensor to store decoder outputs\n",
    "        #outputs = torch.zeros(trg_len, batch_size, trg_vocab_size).to(self.device)\n",
    "\n",
    "        # last hidden state of the encoder is used as the initial hidden state of the decoder\n",
    "        output,(hidden, cell) = self.encoder(src)\n",
    "        \n",
    "        batch_output = F.one_hot(trg[0:1], num_classes=trg_vocab_size).float()\n",
    "\n",
    "        # first input to the decoder is the <sos> tokens\n",
    "        #input = trg[0, :]\n",
    "\n",
    "        for t in range(1, trg_len):\n",
    "            # insert input token embedding, previous hidden and previous cell states\n",
    "            if t == 1:\n",
    "                trg_t  = trg[t-1:t] #ie: <sos>\n",
    "            else:\n",
    "                if torch.rand(1) < teacher_forcing_ratio:\n",
    "                    trg_t = trg[t-1:t]\n",
    "                else:\n",
    "                        # output_t: [trg_len=1, batch_size, trg_vocab_size]\n",
    "                    trg_t = output_t.argmax(2)\n",
    "            \n",
    "            \n",
    "            # receive output tensor (predictions) and new hidden and cell states\n",
    "            output_t, (hidden, cell) = decoder(trg_t, (hidden, cell))\n",
    "            \n",
    "            output_t = output_t.unsqueeze(0)\n",
    "                # output_t: [trg_len=1, batch_size, trg_vocab_size]\n",
    "            \n",
    "            batch_output = torch.cat((batch_output, output_t), 0)\n",
    "            \n",
    "            # place predictions in a tensor holding predictions for each token\n",
    "            #outputs[t] = output\n",
    "\n",
    "            # decide if we are going to use teacher forcing or not\n",
    "            #teacher_force = random.random() < teacher_forcing_ratio\n",
    "\n",
    "            # get the highest predicted token from our predictions\n",
    "            #top1 = output.argmax(1)\n",
    "\n",
    "            # if teacher forcing, use actual next token as next input\n",
    "            # if not, use predicted token\n",
    "            #input = trg[t] if teacher_force else top1\n",
    "\n",
    "        return batch_output"
   ]
  },
  {
   "cell_type": "code",
   "execution_count": 28,
   "metadata": {},
   "outputs": [],
   "source": [
    "#Encoder\n",
    "INPUT_DIM = len(SRC.vocab)\n",
    "ENC_EMB_DIM =  SRC.vocab.vectors.shape[1]\n",
    "ENC_EMB_MAT = SRC.vocab.vectors\n",
    "ENC_HID_DIM = 512\n",
    "ENC_N_LAYERS = 4\n",
    "ENC_DROPOUT = 0.5\n",
    "\n",
    "#decoders General\n",
    "DEC_EMB_DIM = 256\n",
    "DEC_HID_DIM = 512\n",
    "DEC_N_LAYERS = 4\n",
    "DEC_DROPOUT = 0.5\n",
    "\n",
    "#Decoder Hemingway\n",
    "OUTPUT_DIMS_H = len(TRG_H.vocab)\n",
    "DEC_EMB_DIM_H = TRG_H.vocab.vectors.shape[1]\n",
    "DEC_EMB_MAT_H = TRG_H.vocab.vectors\n",
    "\n",
    "#Decoder Nietzsche\n",
    "OUTPUT_DIMS_N = len(TRG_N.vocab)\n",
    "DEC_EMB_DIM_N = TRG_N.vocab.vectors.shape[1]\n",
    "DEC_EMB_MAT_N = TRG_N.vocab.vectors\n",
    "\n",
    "#Decoder Wilde\n",
    "OUTPUT_DIMS_W = len(TRG_W.vocab)\n",
    "DEC_EMB_DIM_W = TRG_W.vocab.vectors.shape[1]\n",
    "DEC_EMB_MAT_W = TRG_W.vocab.vectors\n",
    "\n",
    "TRG_OUTPUT_DIM = [OUTPUT_DIMS_H, OUTPUT_DIMS_N, OUTPUT_DIMS_W]\n",
    "DEC_EMB_DIM = [DEC_EMB_DIM_H, DEC_EMB_DIM_N, DEC_EMB_DIM_W]\n",
    "DEC_EMB_MAT = [DEC_EMB_MAT_H, DEC_EMB_MAT_N, DEC_EMB_MAT_W]\n",
    "\n",
    "\n",
    "BATCH_SIZE = 4\n",
    "LEARNING_RATE = 0.001\n",
    "N_EPOCHS = 100\n",
    "CLIP = 1\n",
    "\n",
    "p = 1.0 \n",
    "min_prob = 0.01\n",
    "linear_decay = 0.00125\n",
    "\n",
    "device = torch.device('cuda' if torch.cuda.is_available() else 'cpu')"
   ]
  },
  {
   "cell_type": "code",
   "execution_count": 19,
   "metadata": {},
   "outputs": [
    {
     "data": {
      "text/plain": [
       "device(type='cuda')"
      ]
     },
     "execution_count": 19,
     "metadata": {},
     "output_type": "execute_result"
    }
   ],
   "source": [
    "device"
   ]
  },
  {
   "cell_type": "code",
   "execution_count": 20,
   "metadata": {},
   "outputs": [],
   "source": [
    "train_iterator_H, test_iterator_H = BucketIterator.splits(\n",
    "                                    (train_set_H,  test_set_H),\n",
    "                                    batch_size = BATCH_SIZE,\n",
    "                                    sort_key = lambda x: len(x.src),\n",
    "                                    device = device,\n",
    "                                    shuffle = True)\n",
    "\n",
    "train_iterator_N, test_iterator_N = BucketIterator.splits(\n",
    "                                    (train_set_N,  test_set_N),\n",
    "                                    batch_size = BATCH_SIZE,\n",
    "                                    sort_key = lambda x: len(x.src),\n",
    "                                    device = device,\n",
    "                                    shuffle = True)\n",
    "\n",
    "train_iterator_W, test_iterator_W = BucketIterator.splits(\n",
    "                                    (train_set_W,  test_set_W),\n",
    "                                    batch_size = BATCH_SIZE,\n",
    "                                    sort_key = lambda x: len(x.src),\n",
    "                                    device = device,\n",
    "                                    shuffle = True)\n",
    "train_iterator=[train_iterator_H,train_iterator_N,train_iterator_W]\n",
    "test_iterator=[test_iterator_H, test_iterator_N, test_iterator_W]"
   ]
  },
  {
   "cell_type": "code",
   "execution_count": 21,
   "metadata": {},
   "outputs": [],
   "source": [
    "def inicialize_model(input_dim,input_emb_dim, input_emb_mat, input_hid_dim, input_n_layers, input_dropout, output_dim,output_emb_dim, output_emb_mat, output_hid_dim, output_n_layers, output_dropout):\n",
    "    enc = Encoder(input_dim=input_dim, \n",
    "                  emb_dim=input_emb_dim, \n",
    "                  emb_mat=input_emb_mat, \n",
    "                  hid_dim=input_hid_dim, \n",
    "                  n_layers=input_n_layers, \n",
    "                  dropout=input_dropout)\n",
    "                     \n",
    "    dec_h = Decoder(output_dim = output_dim[0],\n",
    "                    emb_dim = output_emb_dim[0], \n",
    "                    emb_mat = output_emb_mat[0], \n",
    "                    hid_dim = output_hid_dim, \n",
    "                    n_layers = output_n_layers, \n",
    "                    dropout = output_dropout)\n",
    "    \n",
    "    dec_n = Decoder(output_dim = output_dim[1],\n",
    "                    emb_dim = output_emb_dim[1], \n",
    "                    emb_mat = output_emb_mat[1], \n",
    "                    hid_dim = output_hid_dim, \n",
    "                    n_layers = output_n_layers, \n",
    "                    dropout = output_dropout)\n",
    "    \n",
    "    dec_w = Decoder(output_dim = output_dim[2],\n",
    "                    emb_dim = output_emb_dim[2], \n",
    "                    emb_mat = output_emb_mat[2], \n",
    "                    hid_dim = output_hid_dim, \n",
    "                    n_layers = output_n_layers, \n",
    "                    dropout = output_dropout)\n",
    "    \n",
    "    decoders=[dec_h,dec_n,dec_w]\n",
    "    model  = Seq2Seq(enc, decoders)\n",
    "    \n",
    "    return model\n",
    "    \n",
    "    "
   ]
  },
  {
   "cell_type": "code",
   "execution_count": 22,
   "metadata": {},
   "outputs": [],
   "source": [
    "model = inicialize_model(INPUT_DIM,\n",
    "                         ENC_EMB_DIM, \n",
    "                         ENC_EMB_MAT, \n",
    "                         ENC_HID_DIM, \n",
    "                         ENC_N_LAYERS, \n",
    "                         ENC_DROPOUT, \n",
    "                         TRG_OUTPUT_DIM,\n",
    "                         DEC_EMB_DIM, \n",
    "                         DEC_EMB_MAT, \n",
    "                         DEC_HID_DIM, \n",
    "                         DEC_N_LAYERS, \n",
    "                         DEC_DROPOUT\n",
    "                         )\n",
    "\n",
    "model = model.to(device)"
   ]
  },
  {
   "cell_type": "code",
   "execution_count": 23,
   "metadata": {},
   "outputs": [
    {
     "name": "stdout",
     "output_type": "stream",
     "text": [
      "The model has 50,313,116 trainable parameters\n"
     ]
    }
   ],
   "source": [
    "def count_parameters(model):\n",
    "    return sum(p.numel() for p in model.parameters() if p.requires_grad)\n",
    "\n",
    "print(f'The model has {count_parameters(model):,} trainable parameters')"
   ]
  },
  {
   "cell_type": "markdown",
   "metadata": {},
   "source": [
    "# Parámetros"
   ]
  },
  {
   "cell_type": "code",
   "execution_count": 24,
   "metadata": {},
   "outputs": [],
   "source": [
    "optimizer = optim.Adam(params=model.parameters(),lr = LEARNING_RATE)\n",
    "\n",
    "#decoder Hemingway\n",
    "TRG_PAD_IDX_H = TRG_H.vocab.stoi['<pad>']\n",
    "criterion_H = nn.CrossEntropyLoss(ignore_index = TRG_PAD_IDX_H)\n",
    "\n",
    "#dec Niezsche\n",
    "TRG_PAD_IDX_N = TRG_N.vocab.stoi['<pad>']\n",
    "criterion_N = nn.CrossEntropyLoss(ignore_index = TRG_PAD_IDX_N)\n",
    "\n",
    "#dec Wilde\n",
    "TRG_PAD_IDX_W = TRG_W.vocab.stoi['<pad>']\n",
    "criterion_W = nn.CrossEntropyLoss(ignore_index = TRG_PAD_IDX_W)\n",
    "\n",
    "criterion=[criterion_H, criterion_N, criterion_W]"
   ]
  },
  {
   "cell_type": "markdown",
   "metadata": {},
   "source": [
    "# Entrenar modelo"
   ]
  },
  {
   "cell_type": "code",
   "execution_count": 25,
   "metadata": {},
   "outputs": [],
   "source": [
    "def epoch_time(start_time, end_time):\n",
    "    elapsed_time = end_time - start_time\n",
    "    elapsed_mins = int(elapsed_time / 60)\n",
    "    elapsed_secs = int(elapsed_time - (elapsed_mins * 60))\n",
    "    return elapsed_mins, elapsed_secs"
   ]
  },
  {
   "cell_type": "code",
   "execution_count": 26,
   "metadata": {},
   "outputs": [],
   "source": [
    "def train(model, iterator,teacher_forcing_ratio, optimizer, criterion, clip,training=True):\n",
    "    if training:\n",
    "        model.train()\n",
    "    else:\n",
    "        model.eval()\n",
    "        \n",
    "    epoch_loss = 0\n",
    "    loss_sum = 0\n",
    "    \n",
    "    author_index = [0]*len(iterator[0]) + [1]*len(iterator[1]) + [2]*len(iterator[2])\n",
    "    author_permutation = random.sample(author_index, len(author_index))\n",
    "    \n",
    "    for author in author_permutation:\n",
    "        if author==0: #Hemingway\n",
    "            batch = next(iter(iterator[0]))\n",
    "            src = batch.src\n",
    "            trg = batch.trg_h\n",
    "        elif author==1: #Niezsche\n",
    "            batch = next(iter(iterator[1]))\n",
    "            src = batch.src\n",
    "            trg = batch.trg_n\n",
    "        elif author==2: #Wilde\n",
    "            batch = next(iter(iterator[2]))\n",
    "            src = batch.src\n",
    "            trg = batch.trg_w\n",
    "        \n",
    "        src = src.to(device) \n",
    "        trg = trg.to(device) \n",
    "        output = model(src = src, \n",
    "                       trg = trg, \n",
    "                       index_author = author,\n",
    "                       teacher_forcing_ratio = teacher_forcing_ratio)    \n",
    "    \n",
    "       \n",
    "        output = output[1:]\n",
    "        trg = trg[1:]\n",
    "        \n",
    "        loss = criterion[author](output.view(-1, output.shape[2]), trg.view(-1))\n",
    "\n",
    "        if training:\n",
    "            optimizer.zero_grad()\n",
    "            loss.backward()\n",
    "            torch.nn.utils.clip_grad_norm_(model.parameters(), clip)\n",
    "            optimizer.step()\n",
    "\n",
    "  \n",
    "        loss_sum += loss.item()\n",
    "        #acc_sum += acc.item()\n",
    "\n",
    "    epoch_loss = loss_sum / len(author_permutation)\n",
    "    #epoch_acc = acc_sum / len(iterator)\n",
    "    return epoch_loss"
   ]
  },
  {
   "cell_type": "code",
   "execution_count": 29,
   "metadata": {
    "scrolled": false
   },
   "outputs": [
    {
     "name": "stdout",
     "output_type": "stream",
     "text": [
      "\n",
      "Training:\n",
      "-----------------------------------------------------------------------------------------\n",
      "Epoch: 001 | Time: 48m 45s | TFprob: 0.9988 | Train loss: 3.4697 | | Dev loss: 2.3570\n",
      "-----------------------------------------------------------------------------------------\n",
      "Epoch: 002 | Time: 48m 33s | TFprob: 0.9975 | Train loss: 3.4197 | | Dev loss: 2.7840\n",
      "-----------------------------------------------------------------------------------------\n",
      "Epoch: 003 | Time: 49m 2s | TFprob: 0.9963 | Train loss: 3.3861 | | Dev loss: 2.9996\n",
      "-----------------------------------------------------------------------------------------\n",
      "Epoch: 004 | Time: 48m 36s | TFprob: 0.9950 | Train loss: 3.3350 | | Dev loss: 2.1791\n",
      "-----------------------------------------------------------------------------------------\n",
      "Epoch: 005 | Time: 50m 46s | TFprob: 0.9938 | Train loss: 3.3067 | | Dev loss: 2.2223\n",
      "-----------------------------------------------------------------------------------------\n",
      "Epoch: 006 | Time: 53m 32s | TFprob: 0.9925 | Train loss: 3.2642 | | Dev loss: 2.7077\n",
      "-----------------------------------------------------------------------------------------\n",
      "Epoch: 007 | Time: 53m 49s | TFprob: 0.9913 | Train loss: 3.2428 | | Dev loss: 2.3840\n",
      "-----------------------------------------------------------------------------------------\n",
      "Epoch: 008 | Time: 54m 5s | TFprob: 0.9900 | Train loss: 3.2118 | | Dev loss: 2.1241\n",
      "-----------------------------------------------------------------------------------------\n",
      "Epoch: 009 | Time: 53m 40s | TFprob: 0.9888 | Train loss: 3.1809 | | Dev loss: 2.2796\n",
      "-----------------------------------------------------------------------------------------\n",
      "Epoch: 010 | Time: 54m 1s | TFprob: 0.9875 | Train loss: 3.1509 | | Dev loss: 2.2307\n",
      "-----------------------------------------------------------------------------------------\n",
      "Epoch: 011 | Time: 53m 36s | TFprob: 0.9863 | Train loss: 3.1307 | | Dev loss: 1.9168\n",
      "-----------------------------------------------------------------------------------------\n",
      "Epoch: 012 | Time: 53m 38s | TFprob: 0.9850 | Train loss: 3.1097 | | Dev loss: 2.4292\n",
      "-----------------------------------------------------------------------------------------\n",
      "Epoch: 013 | Time: 53m 48s | TFprob: 0.9838 | Train loss: 3.0972 | | Dev loss: 1.8680\n",
      "-----------------------------------------------------------------------------------------\n",
      "Epoch: 014 | Time: 53m 48s | TFprob: 0.9825 | Train loss: 3.0781 | | Dev loss: 1.9785\n",
      "-----------------------------------------------------------------------------------------\n",
      "Epoch: 015 | Time: 53m 51s | TFprob: 0.9813 | Train loss: 3.0601 | | Dev loss: 1.8053\n",
      "-----------------------------------------------------------------------------------------\n",
      "Epoch: 016 | Time: 53m 57s | TFprob: 0.9800 | Train loss: 3.0472 | | Dev loss: 1.8179\n",
      "-----------------------------------------------------------------------------------------\n",
      "Epoch: 017 | Time: 53m 38s | TFprob: 0.9788 | Train loss: 3.0192 | | Dev loss: 1.8750\n",
      "-----------------------------------------------------------------------------------------\n",
      "Epoch: 018 | Time: 53m 34s | TFprob: 0.9775 | Train loss: 2.9951 | | Dev loss: 1.8692\n",
      "-----------------------------------------------------------------------------------------\n",
      "Epoch: 019 | Time: 53m 59s | TFprob: 0.9763 | Train loss: 2.9890 | | Dev loss: 1.8606\n",
      "-----------------------------------------------------------------------------------------\n",
      "Epoch: 020 | Time: 50m 31s | TFprob: 0.9750 | Train loss: 2.9740 | | Dev loss: 1.9565\n",
      "-----------------------------------------------------------------------------------------\n",
      "Epoch: 021 | Time: 49m 1s | TFprob: 0.9738 | Train loss: 2.9675 | | Dev loss: 1.8162\n",
      "-----------------------------------------------------------------------------------------\n",
      "Epoch: 022 | Time: 48m 59s | TFprob: 0.9725 | Train loss: 2.9577 | | Dev loss: 1.6803\n",
      "-----------------------------------------------------------------------------------------\n",
      "Epoch: 023 | Time: 48m 59s | TFprob: 0.9713 | Train loss: 2.9370 | | Dev loss: 1.8851\n",
      "-----------------------------------------------------------------------------------------\n",
      "Epoch: 024 | Time: 49m 1s | TFprob: 0.9700 | Train loss: 2.9229 | | Dev loss: 1.7300\n",
      "-----------------------------------------------------------------------------------------\n",
      "Epoch: 025 | Time: 49m 12s | TFprob: 0.9688 | Train loss: 2.9291 | | Dev loss: 1.5789\n",
      "-----------------------------------------------------------------------------------------\n",
      "Epoch: 026 | Time: 49m 22s | TFprob: 0.9675 | Train loss: 2.9209 | | Dev loss: 1.7541\n",
      "-----------------------------------------------------------------------------------------\n",
      "Epoch: 027 | Time: 49m 4s | TFprob: 0.9663 | Train loss: 2.8968 | | Dev loss: 1.8211\n",
      "-----------------------------------------------------------------------------------------\n",
      "Epoch: 028 | Time: 49m 2s | TFprob: 0.9650 | Train loss: 2.8883 | | Dev loss: 1.7449\n",
      "-----------------------------------------------------------------------------------------\n",
      "Epoch: 029 | Time: 52m 21s | TFprob: 0.9638 | Train loss: 2.8834 | | Dev loss: 1.6128\n",
      "-----------------------------------------------------------------------------------------\n",
      "Epoch: 030 | Time: 49m 32s | TFprob: 0.9625 | Train loss: 2.8811 | | Dev loss: 1.5711\n",
      "-----------------------------------------------------------------------------------------\n",
      "Epoch: 031 | Time: 49m 12s | TFprob: 0.9613 | Train loss: 2.8646 | | Dev loss: 1.5801\n",
      "-----------------------------------------------------------------------------------------\n",
      "Epoch: 032 | Time: 49m 16s | TFprob: 0.9600 | Train loss: 2.8577 | | Dev loss: 1.6251\n",
      "-----------------------------------------------------------------------------------------\n",
      "Epoch: 033 | Time: 49m 5s | TFprob: 0.9588 | Train loss: 2.8511 | | Dev loss: 1.7188\n",
      "-----------------------------------------------------------------------------------------\n",
      "Epoch: 034 | Time: 49m 29s | TFprob: 0.9575 | Train loss: 2.8561 | | Dev loss: 1.5370\n",
      "-----------------------------------------------------------------------------------------\n",
      "Epoch: 035 | Time: 49m 16s | TFprob: 0.9563 | Train loss: 2.8394 | | Dev loss: 1.7356\n",
      "-----------------------------------------------------------------------------------------\n",
      "Epoch: 036 | Time: 49m 20s | TFprob: 0.9550 | Train loss: 2.8436 | | Dev loss: 1.5782\n",
      "-----------------------------------------------------------------------------------------\n",
      "Epoch: 037 | Time: 49m 38s | TFprob: 0.9538 | Train loss: 2.8403 | | Dev loss: 1.5696\n",
      "-----------------------------------------------------------------------------------------\n",
      "Epoch: 038 | Time: 49m 16s | TFprob: 0.9525 | Train loss: 2.8261 | | Dev loss: 1.5641\n",
      "-----------------------------------------------------------------------------------------\n",
      "Epoch: 039 | Time: 49m 18s | TFprob: 0.9513 | Train loss: 2.8178 | | Dev loss: 1.7565\n",
      "-----------------------------------------------------------------------------------------\n",
      "Epoch: 040 | Time: 49m 18s | TFprob: 0.9500 | Train loss: 2.8141 | | Dev loss: 2.0273\n",
      "-----------------------------------------------------------------------------------------\n",
      "Epoch: 041 | Time: 49m 24s | TFprob: 0.9488 | Train loss: 2.8188 | | Dev loss: 1.6381\n",
      "-----------------------------------------------------------------------------------------\n",
      "Epoch: 042 | Time: 49m 24s | TFprob: 0.9475 | Train loss: 2.8133 | | Dev loss: 1.6839\n",
      "-----------------------------------------------------------------------------------------\n",
      "Epoch: 043 | Time: 49m 9s | TFprob: 0.9463 | Train loss: 2.8092 | | Dev loss: 1.9350\n",
      "-----------------------------------------------------------------------------------------\n",
      "Epoch: 044 | Time: 49m 42s | TFprob: 0.9450 | Train loss: 2.8101 | | Dev loss: 1.8601\n",
      "-----------------------------------------------------------------------------------------\n",
      "Epoch: 045 | Time: 49m 16s | TFprob: 0.9438 | Train loss: 2.7990 | | Dev loss: 1.7325\n",
      "-----------------------------------------------------------------------------------------\n",
      "Epoch: 046 | Time: 49m 21s | TFprob: 0.9425 | Train loss: 2.8003 | | Dev loss: 1.6701\n",
      "-----------------------------------------------------------------------------------------\n",
      "Epoch: 047 | Time: 49m 28s | TFprob: 0.9413 | Train loss: 2.7960 | | Dev loss: 1.5336\n"
     ]
    },
    {
     "name": "stdout",
     "output_type": "stream",
     "text": [
      "-----------------------------------------------------------------------------------------\n",
      "Epoch: 048 | Time: 49m 20s | TFprob: 0.9400 | Train loss: 2.7960 | | Dev loss: 1.5210\n",
      "-----------------------------------------------------------------------------------------\n",
      "Epoch: 049 | Time: 49m 17s | TFprob: 0.9388 | Train loss: 2.7788 | | Dev loss: 1.8023\n",
      "-----------------------------------------------------------------------------------------\n",
      "Epoch: 050 | Time: 49m 16s | TFprob: 0.9375 | Train loss: 2.7848 | | Dev loss: 1.6156\n",
      "-----------------------------------------------------------------------------------------\n",
      "Epoch: 051 | Time: 49m 17s | TFprob: 0.9363 | Train loss: 2.7825 | | Dev loss: 1.6416\n",
      "-----------------------------------------------------------------------------------------\n",
      "Epoch: 052 | Time: 49m 11s | TFprob: 0.9350 | Train loss: 2.7751 | | Dev loss: 1.5570\n",
      "-----------------------------------------------------------------------------------------\n",
      "Epoch: 053 | Time: 49m 22s | TFprob: 0.9338 | Train loss: 2.7711 | | Dev loss: 1.7683\n",
      "-----------------------------------------------------------------------------------------\n",
      "Epoch: 054 | Time: 49m 28s | TFprob: 0.9325 | Train loss: 2.7767 | | Dev loss: 1.5362\n",
      "-----------------------------------------------------------------------------------------\n",
      "Epoch: 055 | Time: 49m 23s | TFprob: 0.9313 | Train loss: 2.7647 | | Dev loss: 1.5398\n",
      "-----------------------------------------------------------------------------------------\n",
      "Epoch: 056 | Time: 49m 21s | TFprob: 0.9300 | Train loss: 2.7663 | | Dev loss: 1.5581\n",
      "-----------------------------------------------------------------------------------------\n",
      "Epoch: 057 | Time: 49m 17s | TFprob: 0.9288 | Train loss: 2.7576 | | Dev loss: 1.4714\n",
      "-----------------------------------------------------------------------------------------\n",
      "Epoch: 058 | Time: 49m 16s | TFprob: 0.9275 | Train loss: 2.7486 | | Dev loss: 1.5028\n",
      "-----------------------------------------------------------------------------------------\n",
      "Epoch: 059 | Time: 49m 31s | TFprob: 0.9263 | Train loss: 2.7566 | | Dev loss: 1.5693\n",
      "-----------------------------------------------------------------------------------------\n",
      "Epoch: 060 | Time: 49m 21s | TFprob: 0.9250 | Train loss: 2.7481 | | Dev loss: 1.4848\n",
      "-----------------------------------------------------------------------------------------\n",
      "Epoch: 061 | Time: 49m 38s | TFprob: 0.9238 | Train loss: 2.7564 | | Dev loss: 1.4696\n",
      "-----------------------------------------------------------------------------------------\n",
      "Epoch: 062 | Time: 49m 57s | TFprob: 0.9225 | Train loss: 2.7549 | | Dev loss: 1.4927\n",
      "-----------------------------------------------------------------------------------------\n",
      "Epoch: 063 | Time: 49m 42s | TFprob: 0.9213 | Train loss: 2.7577 | | Dev loss: 1.6432\n",
      "-----------------------------------------------------------------------------------------\n",
      "Epoch: 064 | Time: 49m 47s | TFprob: 0.9200 | Train loss: 2.7585 | | Dev loss: 1.4805\n",
      "-----------------------------------------------------------------------------------------\n",
      "Epoch: 065 | Time: 49m 51s | TFprob: 0.9188 | Train loss: 2.7519 | | Dev loss: 1.5853\n",
      "-----------------------------------------------------------------------------------------\n",
      "Epoch: 066 | Time: 49m 51s | TFprob: 0.9175 | Train loss: 2.7572 | | Dev loss: 1.7066\n",
      "-----------------------------------------------------------------------------------------\n",
      "Epoch: 067 | Time: 49m 48s | TFprob: 0.9163 | Train loss: 2.7480 | | Dev loss: 1.6522\n",
      "-----------------------------------------------------------------------------------------\n",
      "Epoch: 068 | Time: 49m 30s | TFprob: 0.9150 | Train loss: 2.7530 | | Dev loss: 1.6654\n",
      "-----------------------------------------------------------------------------------------\n",
      "Epoch: 069 | Time: 49m 21s | TFprob: 0.9138 | Train loss: 2.7401 | | Dev loss: 1.6735\n",
      "-----------------------------------------------------------------------------------------\n",
      "Epoch: 070 | Time: 49m 22s | TFprob: 0.9125 | Train loss: 2.7335 | | Dev loss: 1.4042\n",
      "-----------------------------------------------------------------------------------------\n",
      "Epoch: 071 | Time: 49m 32s | TFprob: 0.9113 | Train loss: 2.7362 | | Dev loss: 1.3362\n",
      "-----------------------------------------------------------------------------------------\n",
      "Epoch: 072 | Time: 49m 45s | TFprob: 0.9100 | Train loss: 2.7453 | | Dev loss: 1.5953\n",
      "-----------------------------------------------------------------------------------------\n",
      "Epoch: 073 | Time: 49m 44s | TFprob: 0.9088 | Train loss: 2.7375 | | Dev loss: 1.3417\n",
      "-----------------------------------------------------------------------------------------\n",
      "Epoch: 074 | Time: 49m 38s | TFprob: 0.9075 | Train loss: 2.7284 | | Dev loss: 1.4559\n",
      "-----------------------------------------------------------------------------------------\n",
      "Epoch: 075 | Time: 49m 46s | TFprob: 0.9063 | Train loss: 2.7351 | | Dev loss: 1.5030\n",
      "-----------------------------------------------------------------------------------------\n",
      "Epoch: 076 | Time: 49m 45s | TFprob: 0.9050 | Train loss: 2.7266 | | Dev loss: 1.4946\n",
      "-----------------------------------------------------------------------------------------\n",
      "Epoch: 077 | Time: 49m 44s | TFprob: 0.9038 | Train loss: 2.7341 | | Dev loss: 1.6315\n",
      "-----------------------------------------------------------------------------------------\n",
      "Epoch: 078 | Time: 49m 41s | TFprob: 0.9025 | Train loss: 2.7316 | | Dev loss: 1.4922\n",
      "-----------------------------------------------------------------------------------------\n",
      "Epoch: 079 | Time: 49m 36s | TFprob: 0.9013 | Train loss: 2.7308 | | Dev loss: 1.6355\n",
      "-----------------------------------------------------------------------------------------\n",
      "Epoch: 080 | Time: 49m 34s | TFprob: 0.9000 | Train loss: 2.7362 | | Dev loss: 1.7883\n",
      "-----------------------------------------------------------------------------------------\n",
      "Epoch: 081 | Time: 49m 20s | TFprob: 0.8988 | Train loss: 2.7320 | | Dev loss: 1.6006\n",
      "-----------------------------------------------------------------------------------------\n",
      "Epoch: 082 | Time: 49m 32s | TFprob: 0.8975 | Train loss: 2.7398 | | Dev loss: 1.5674\n",
      "-----------------------------------------------------------------------------------------\n",
      "Epoch: 083 | Time: 49m 29s | TFprob: 0.8963 | Train loss: 2.7332 | | Dev loss: 1.5775\n",
      "-----------------------------------------------------------------------------------------\n",
      "Epoch: 084 | Time: 49m 39s | TFprob: 0.8950 | Train loss: 2.7447 | | Dev loss: 1.5845\n",
      "-----------------------------------------------------------------------------------------\n",
      "Epoch: 085 | Time: 49m 38s | TFprob: 0.8938 | Train loss: 2.7361 | | Dev loss: 1.4692\n",
      "-----------------------------------------------------------------------------------------\n",
      "Epoch: 086 | Time: 49m 31s | TFprob: 0.8925 | Train loss: 2.7227 | | Dev loss: 1.6610\n",
      "-----------------------------------------------------------------------------------------\n",
      "Epoch: 087 | Time: 49m 30s | TFprob: 0.8913 | Train loss: 2.7312 | | Dev loss: 1.6696\n",
      "-----------------------------------------------------------------------------------------\n",
      "Epoch: 088 | Time: 49m 31s | TFprob: 0.8900 | Train loss: 2.7376 | | Dev loss: 1.5102\n",
      "-----------------------------------------------------------------------------------------\n",
      "Epoch: 089 | Time: 49m 53s | TFprob: 0.8888 | Train loss: 2.7463 | | Dev loss: 1.5660\n",
      "-----------------------------------------------------------------------------------------\n",
      "Epoch: 090 | Time: 49m 46s | TFprob: 0.8875 | Train loss: 2.7287 | | Dev loss: 1.5936\n",
      "-----------------------------------------------------------------------------------------\n",
      "Epoch: 091 | Time: 50m 5s | TFprob: 0.8863 | Train loss: 2.7335 | | Dev loss: 1.5816\n",
      "-----------------------------------------------------------------------------------------\n",
      "Epoch: 092 | Time: 50m 5s | TFprob: 0.8850 | Train loss: 2.7441 | | Dev loss: 1.5901\n",
      "-----------------------------------------------------------------------------------------\n",
      "Epoch: 093 | Time: 49m 49s | TFprob: 0.8838 | Train loss: 2.7406 | | Dev loss: 1.5069\n",
      "-----------------------------------------------------------------------------------------\n",
      "Epoch: 094 | Time: 49m 43s | TFprob: 0.8825 | Train loss: 2.7347 | | Dev loss: 1.4477\n"
     ]
    },
    {
     "name": "stdout",
     "output_type": "stream",
     "text": [
      "-----------------------------------------------------------------------------------------\n",
      "Epoch: 095 | Time: 49m 35s | TFprob: 0.8813 | Train loss: 2.7453 | | Dev loss: 1.7031\n",
      "-----------------------------------------------------------------------------------------\n",
      "Epoch: 096 | Time: 49m 37s | TFprob: 0.8800 | Train loss: 2.7367 | | Dev loss: 1.5807\n",
      "-----------------------------------------------------------------------------------------\n",
      "Epoch: 097 | Time: 49m 40s | TFprob: 0.8788 | Train loss: 2.7365 | | Dev loss: 1.5185\n",
      "-----------------------------------------------------------------------------------------\n",
      "Epoch: 098 | Time: 49m 48s | TFprob: 0.8775 | Train loss: 2.7495 | | Dev loss: 1.6196\n",
      "-----------------------------------------------------------------------------------------\n",
      "Epoch: 099 | Time: 49m 45s | TFprob: 0.8763 | Train loss: 2.7457 | | Dev loss: 1.4807\n",
      "-----------------------------------------------------------------------------------------\n",
      "Epoch: 100 | Time: 49m 51s | TFprob: 0.8750 | Train loss: 2.7436 | | Dev loss: 1.5930\n",
      "-----------------------------------------------------------------------------------------\n"
     ]
    }
   ],
   "source": [
    "print('\\nTraining:')\n",
    "train_loss_epoch = []\n",
    "dev_loss_epoch = []\n",
    "best_dev_loss = float('inf')\n",
    "for epoch in range(N_EPOCHS):\n",
    "    \n",
    "    # Schedule teacher forcing\n",
    "    p = max(min_prob, (p - linear_decay)) \n",
    "    \n",
    "    start_time = time.time()\n",
    "    \n",
    "    train_loss = train(model = model,\n",
    "                       iterator = train_iterator,\n",
    "                       teacher_forcing_ratio = p,\n",
    "                       optimizer = optimizer,\n",
    "                       criterion =  criterion,\n",
    "                       clip = CLIP,\n",
    "                       training = True)\n",
    "    with torch.no_grad():\n",
    "        dev_loss = train(model = model,\n",
    "                       iterator = test_iterator,\n",
    "                       teacher_forcing_ratio = 0,\n",
    "                       optimizer = None,\n",
    "                       criterion =  criterion,\n",
    "                       clip = None,\n",
    "                       training = False)\n",
    "\n",
    "    train_loss_epoch.append(train_loss)\n",
    "    dev_loss_epoch.append(dev_loss)\n",
    "    \n",
    "    end_time = time.time()\n",
    "    epoch_mins, epoch_secs = epoch_time(start_time, end_time)\n",
    "    \n",
    "    if dev_loss < best_dev_loss:\n",
    "        best_dev_loss = dev_loss\n",
    "        torch.save(model.state_dict(), 'model_100.pt')\n",
    "    print('-' * 89)\n",
    "    print(f'Epoch: {epoch+1:03} | Time: {epoch_mins}m {epoch_secs}s | TFprob: {p:.4f} | Train loss: {train_loss:.4f} | | Dev loss: {dev_loss:.4f}')\n",
    "print('-' * 89)"
   ]
  },
  {
   "cell_type": "code",
   "execution_count": 31,
   "metadata": {},
   "outputs": [],
   "source": [
    "import matplotlib.pyplot as plt"
   ]
  },
  {
   "cell_type": "code",
   "execution_count": 32,
   "metadata": {},
   "outputs": [
    {
     "data": {
      "text/plain": [
       "Text(0.5, 0, 'Epoch')"
      ]
     },
     "execution_count": 32,
     "metadata": {},
     "output_type": "execute_result"
    },
    {
     "data": {
      "image/png": "[encoded data removed]",
      "text/plain": [
       "<Figure size 1080x576 with 1 Axes>"
      ]
     },
     "metadata": {
      "needs_background": "light"
     },
     "output_type": "display_data"
    }
   ],
   "source": [
    "plt.figure(figsize=(15,8))\n",
    "plt.grid(b=True)\n",
    "plt.plot(train_loss_epoch, label='Train loss')\n",
    "plt.plot(dev_loss_epoch, label='Dev loss')\n",
    "plt.title('Learning curves')\n",
    "plt.legend()\n",
    "plt.ylabel('Value')\n",
    "plt.xlabel('Epoch')"
   ]
  },
  {
   "cell_type": "markdown",
   "metadata": {},
   "source": [
    "# Predicciones"
   ]
  },
  {
   "cell_type": "code",
   "execution_count": 4,
   "metadata": {},
   "outputs": [
    {
     "ename": "NameError",
     "evalue": "name 'model' is not defined",
     "output_type": "error",
     "traceback": [
      "\u001b[0;31m---------------------------------------------------------------------------\u001b[0m",
      "\u001b[0;31mNameError\u001b[0m                                 Traceback (most recent call last)",
      "\u001b[0;32m<ipython-input-4-846fdb5dbf21>\u001b[0m in \u001b[0;36m<module>\u001b[0;34m\u001b[0m\n\u001b[0;32m----> 1\u001b[0;31m \u001b[0mmodel\u001b[0m\u001b[0;34m.\u001b[0m\u001b[0mload_state_dict\u001b[0m\u001b[0;34m(\u001b[0m\u001b[0mtorch\u001b[0m\u001b[0;34m.\u001b[0m\u001b[0mload\u001b[0m\u001b[0;34m(\u001b[0m\u001b[0;34m'model_100.pt'\u001b[0m\u001b[0;34m)\u001b[0m\u001b[0;34m)\u001b[0m\u001b[0;34m\u001b[0m\u001b[0;34m\u001b[0m\u001b[0m\n\u001b[0m\u001b[1;32m      2\u001b[0m \u001b[0mmodel\u001b[0m\u001b[0;34m.\u001b[0m\u001b[0meval\u001b[0m\u001b[0;34m(\u001b[0m\u001b[0;34m)\u001b[0m\u001b[0;34m\u001b[0m\u001b[0;34m\u001b[0m\u001b[0m\n",
      "\u001b[0;31mNameError\u001b[0m: name 'model' is not defined"
     ]
    }
   ],
   "source": [
    "model.load_state_dict(torch.load('model_100.pt'))\n",
    "model.eval()"
   ]
  },
  {
   "cell_type": "code",
   "execution_count": null,
   "metadata": {},
   "outputs": [],
   "source": []
  },
  {
   "cell_type": "code",
   "execution_count": null,
   "metadata": {},
   "outputs": [],
   "source": []
  },
  {
   "cell_type": "code",
   "execution_count": null,
   "metadata": {},
   "outputs": [],
   "source": []
  }
 ],
 "metadata": {
  "kernelspec": {
   "display_name": "tesis",
   "language": "python",
   "name": "tesis"
  },
  "language_info": {
   "codemirror_mode": {
    "name": "ipython",
    "version": 3
   },
   "file_extension": ".py",
   "mimetype": "text/x-python",
   "name": "python",
   "nbconvert_exporter": "python",
   "pygments_lexer": "ipython3",
   "version": "3.6.10"
  }
 },
 "nbformat": 4,
 "nbformat_minor": 4
}
